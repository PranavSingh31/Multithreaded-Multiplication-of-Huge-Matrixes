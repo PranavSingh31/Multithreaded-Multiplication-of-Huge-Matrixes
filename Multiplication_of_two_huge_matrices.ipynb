{
  "nbformat": 4,
  "nbformat_minor": 0,
  "metadata": {
    "colab": {
      "provenance": [],
      "authorship_tag": "ABX9TyMcgVdFe/QvIKEik1K1gOhY",
      "include_colab_link": true
    },
    "kernelspec": {
      "name": "python3",
      "display_name": "Python 3"
    },
    "language_info": {
      "name": "python"
    },
    "accelerator": "GPU",
    "gpuClass": "standard"
  },
  "cells": [
    {
      "cell_type": "markdown",
      "metadata": {
        "id": "view-in-github",
        "colab_type": "text"
      },
      "source": [
        "<a href=\"https://colab.research.google.com/github/PranavSingh31/Multithreaded-Multiplication-of-Huge-Matrixes/blob/main/Multiplication_of_two_huge_matrices.ipynb\" target=\"_parent\"><img src=\"https://colab.research.google.com/assets/colab-badge.svg\" alt=\"Open In Colab\"/></a>"
      ]
    },
    {
      "cell_type": "code",
      "execution_count": null,
      "metadata": {
        "id": "ZQSlvljFKm0p"
      },
      "outputs": [],
      "source": [
        "import numpy as np\n",
        "import time\n",
        "import concurrent.futures"
      ]
    },
    {
      "cell_type": "code",
      "source": [
        "def matrix_multiplication(A, B):\n",
        "    return np.dot(A, B)"
      ],
      "metadata": {
        "id": "BYR3eQDeLAA0"
      },
      "execution_count": null,
      "outputs": []
    },
    {
      "cell_type": "code",
      "source": [
        "def create_matrix(size):\n",
        "    return np.random.rand(size, size)"
      ],
      "metadata": {
        "id": "t95TO5TuLC9D"
      },
      "execution_count": null,
      "outputs": []
    },
    {
      "cell_type": "code",
      "source": [
        "size = int(input(\"Enter size of matrices: \"))\n",
        "cores = int(input(\"Enter number of cores to use: \"))"
      ],
      "metadata": {
        "colab": {
          "base_uri": "https://localhost:8080/"
        },
        "id": "eVptunrwLFwL",
        "outputId": "a770c1a2-7ac2-46d2-9ffa-9becdfdc61f1"
      },
      "execution_count": null,
      "outputs": [
        {
          "name": "stdout",
          "output_type": "stream",
          "text": [
            "Enter size of matrices: 20000\n",
            "Enter number of cores to use: 4\n"
          ]
        }
      ]
    },
    {
      "cell_type": "code",
      "source": [
        "A = create_matrix(size)\n",
        "B = create_matrix(size)"
      ],
      "metadata": {
        "id": "5ra2eTJoLKNi"
      },
      "execution_count": null,
      "outputs": []
    },
    {
      "cell_type": "code",
      "source": [
        "start_time = time.time()\n",
        "with concurrent.futures.ThreadPoolExecutor(max_workers=cores) as executor:\n",
        "    result = executor.submit(matrix_multiplication, A, B)\n",
        "    C = result.result()\n",
        "end_time = time.time()"
      ],
      "metadata": {
        "id": "1cTE7MPzLsbE"
      },
      "execution_count": null,
      "outputs": []
    },
    {
      "cell_type": "code",
      "source": [
        "print(\"Result:\")\n",
        "print(C)\n",
        "print(\"Time taken: \", end_time - start_time, \"seconds\")"
      ],
      "metadata": {
        "colab": {
          "base_uri": "https://localhost:8080/"
        },
        "id": "ZvZOa5uaLvtR",
        "outputId": "0189de43-1e5c-45e0-e071-9991efdac1a8"
      },
      "execution_count": null,
      "outputs": [
        {
          "output_type": "stream",
          "name": "stdout",
          "text": [
            "Result:\n",
            "[[4955.88697735 4977.18074716 4980.92735771 ... 4951.98359447\n",
            "  5001.78055526 4981.25567471]\n",
            " [5014.66058046 5030.02248814 5024.3856696  ... 5000.9121361\n",
            "  5031.19717165 5012.44743578]\n",
            " [5010.68835968 5021.0234287  5041.21551435 ... 4969.85166841\n",
            "  5023.59798155 4997.69050595]\n",
            " ...\n",
            " [4941.46062893 4973.82942356 4977.96528666 ... 4950.92928251\n",
            "  4979.80248408 4956.20123409]\n",
            " [5008.32338934 4985.86721702 4997.67273379 ... 4958.54804686\n",
            "  4996.8200715  4964.09777336]\n",
            " [5040.16532458 5067.69982744 5071.08671465 ... 5025.51673701\n",
            "  5066.91314057 5035.19533397]]\n",
            "Time taken:  452.8811602592468 seconds\n"
          ]
        }
      ]
    }
  ]
}